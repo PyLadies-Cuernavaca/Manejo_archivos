{
  "cells": [
    {
      "cell_type": "markdown",
      "source": [
        "#**1.8. Manejo de archivos con python**\n",
        "\n",
        "\n",
        "Para abrir un archivo en Python, utiliza la función ```open()```. Esta función toma dos argumentos: el nombre del archivo y el modo en el que se va a abrir el archivo (lectura, escritura, etc.).\n",
        "\n",
        "```\n",
        "archivo = open(\"nombre_del_archivo.txt\", \"r\")\n",
        "```\n",
        "\n",
        "\n",
        "\n",
        "*   ```\"r\"```: Modo de lectura (read).\n",
        "*   ```\"w\"```: Modo de escritura (write). Crea un nuevo archivo si no existe o sobrescribe el contenido si ya existe.\n",
        "*   ```\"a\"```: Modo de apertura para añadir contenido (append) al final del archivo.\n",
        "*   ```\"b\"```: Modo binario, se usa junto con \"r\", \"w\" o \"a\" para trabajar con archivos binarios (por ejemplo, \"rb\" para lectura binaria)\n",
        "\n",
        "\n",
        "\n",
        "\n",
        "\n",
        "\n",
        "\n"
      ],
      "metadata": {
        "id": "2WTCap-IK1CW"
      }
    },
    {
      "cell_type": "code",
      "source": [
        "## Crea una variable donde almacene la ruta en tipo de dato de texto\n",
        "ruta_archivo =\n",
        "\n",
        "## Leer todo el archivo de una vez\n",
        "archivo = open(AQUI-ARCHIVO, \"AQUI-MODO\")"
      ],
      "metadata": {
        "id": "oXFHdgp4BVSi"
      },
      "execution_count": 3,
      "outputs": []
    },
    {
      "cell_type": "markdown",
      "source": [
        "###**1.8.1. Cerrar archivos**\n",
        "\n",
        "Al terminar de acceder, editar o crear un archivo, es importante cerrarlo utilizando el método close().\n",
        "- **close()**: Cierra el archivo abierto, liberando los recursos y asegurando que los cambios se escriban en el disco.\n",
        "\n",
        "\n",
        "```\n",
        "archivo.close()\n",
        "```"
      ],
      "metadata": {
        "id": "6qajZdtglxnz"
      }
    },
    {
      "cell_type": "code",
      "source": [
        "## Define instruccion para cerrar archivo\n"
      ],
      "metadata": {
        "id": "jUQsi8vNlxWc"
      },
      "execution_count": null,
      "outputs": []
    },
    {
      "cell_type": "markdown",
      "source": [
        "###**1.8.2. Leer archivos**\n",
        "Puedes leer el contenido de un archivo línea por línea o como un solo bloque de texto.\n",
        "\n",
        "- **read()**: Lee el contenido completo de un archivo y lo devuelve como una cadena de texto.\n",
        "\n",
        "- **readline()**: Lee una línea del archivo y devuelve una cadena de texto. Se puede usar en un bucle para leer línea por línea.\n",
        "\n",
        "* **readlines()**: Lee todas las líneas del archivo y las devuelve como una lista de cadenas de texto."
      ],
      "metadata": {
        "id": "HWwwDqX1-XXK"
      }
    },
    {
      "cell_type": "code",
      "source": [
        "#Abre el archivo con el método open()"
      ],
      "metadata": {
        "id": "1jx-zgbm-aL_"
      },
      "execution_count": 6,
      "outputs": []
    },
    {
      "cell_type": "markdown",
      "source": [
        "Ahora vamos a probar cada modo de lectura de los archivos y observar las diferencias."
      ],
      "metadata": {
        "id": "-isx7zG6oeLC"
      }
    },
    {
      "cell_type": "code",
      "source": [
        "# Lectura con el metodo read()\n",
        "\n",
        "\n",
        "# Lectura con el metodo readline()\n",
        "\n",
        "\n",
        "# Lectura con el metodo readlines()\n"
      ],
      "metadata": {
        "id": "NMFfoiLPo2FX"
      },
      "execution_count": 23,
      "outputs": []
    },
    {
      "cell_type": "markdown",
      "source": [
        "### Método recomendado: with statement"
      ],
      "metadata": {
        "id": "ETVlCpF8sFrk"
      }
    },
    {
      "cell_type": "code",
      "source": [
        "# Forma segura - se cierra automáticamente\n",
        "with open(\"mi_archivo.txt\", \"r\") as archivo:\n",
        "    contenido = archivo.read()\n",
        "    print(contenido)\n",
        "# El archivo se cierra automáticamente aquí"
      ],
      "metadata": {
        "id": "OOwbeSARr2Y3"
      },
      "execution_count": null,
      "outputs": []
    },
    {
      "cell_type": "code",
      "source": [
        "# 1. Leer todo el archivo\n",
        "with open(\"datos.txt\", \"r\", encoding=\"utf-8\") as archivo:\n",
        "    todo = archivo.read()\n",
        "    print(todo)"
      ],
      "metadata": {
        "id": "4lhYbdTjtK8S"
      },
      "execution_count": null,
      "outputs": []
    },
    {
      "cell_type": "code",
      "source": [
        "# 2. Leer línea por línea\n",
        "with open(\"datos.txt\", \"r\", encoding=\"utf-8\") as archivo:\n",
        "    for linea in archivo:\n",
        "        print(f\"Línea: {linea.strip()}\")  # strip() quita saltos de línea"
      ],
      "metadata": {
        "id": "FARE9Be1tV3f"
      },
      "execution_count": null,
      "outputs": []
    },
    {
      "cell_type": "code",
      "source": [
        "# 3. Leer todas las líneas en una lista\n",
        "with open(\"datos.txt\", \"r\", encoding=\"utf-8\") as archivo:\n",
        "    lineas = archivo.readlines()\n",
        "    print(f\"Total de líneas: {len(lineas)}\")\n",
        "    print(f\"Primera línea: {lineas[0].strip()}\")"
      ],
      "metadata": {
        "id": "FWp_oF5btgct"
      },
      "execution_count": null,
      "outputs": []
    },
    {
      "cell_type": "markdown",
      "source": [
        "#### Manejo de errores"
      ],
      "metadata": {
        "id": "d7qANfkCs0aL"
      }
    },
    {
      "cell_type": "code",
      "source": [
        "try:\n",
        "    with open(\"archivo_inexistente.txt\", \"r\", encoding=\"utf-8\") as archivo:\n",
        "        contenido = archivo.read()\n",
        "except FileNotFoundError:\n",
        "    print(\"¡Ups! El archivo no existe\")\n",
        "except PermissionError:\n",
        "    print(\"No tienes permisos para leer este archivo\")\n",
        "except Exception as e:\n",
        "    print(f\"Error inesperado: {e}\")"
      ],
      "metadata": {
        "id": "2xPh0bdDs2s6"
      },
      "execution_count": null,
      "outputs": []
    },
    {
      "cell_type": "markdown",
      "source": [
        "###**1.8.3. Escribir archivos**\n",
        "\n",
        "- open(nombre_archivo, modo): También se usa para abrir archivos en modo escritura (\"w\"), modo append (\"a\") y otros modos.\n",
        "\n",
        "- write(texto): Escribe una cadena de texto en el archivo abierto en modo escritura. Si el archivo no existe, lo crea. Si existe, sobrescribe el contenido.\n",
        "\n",
        "- writelines(lista_de_texto): Escribe una lista de cadenas de texto en el archivo, una por línea."
      ],
      "metadata": {
        "id": "BMVxChdXBCxZ"
      }
    },
    {
      "cell_type": "code",
      "source": [
        "filename = \"output.txt\"\n",
        "f = open(filename, \"w\") #abrir archivo en modo de escritura (sobre escribe si el archivo existe)\n",
        "f.write(\"hello there!\") #contenido a escribir en el archivo (tipo de dato)\n",
        "f.close()"
      ],
      "metadata": {
        "id": "vE3GnIRIBqP1"
      },
      "execution_count": null,
      "outputs": []
    },
    {
      "cell_type": "code",
      "source": [
        "filename = \"output.txt\"\n",
        "f = open(filename, \"a\") #abrir archivo en modo append (concatena)\n",
        "f.write(\"hello there!\") #escribir en el archivo\n",
        "f.close()"
      ],
      "metadata": {
        "id": "GHUlRBCPBsMD"
      },
      "execution_count": null,
      "outputs": []
    },
    {
      "cell_type": "markdown",
      "source": [
        "## Analisis de longitudes de las secuencias en el archivo FASTA"
      ],
      "metadata": {
        "id": "qQiYl30YxOcg"
      }
    },
    {
      "cell_type": "code",
      "source": [
        "import pandas as pd\n",
        "import matplotlib.pyplot as plt\n",
        "import seaborn as sns\n",
        "\n",
        "secuencias = []\n",
        "ids = []\n",
        "\n",
        "with open(ruta_archivo, \"r\") as archivo:\n",
        "  lines = archivo.readlines()\n",
        "\n",
        "  for line in lines:\n",
        "        if line.startswith(\">\"):\n",
        "            # Almacenar en la lista ids (quitando el \">\" y salto de línea)\n",
        "            ids.append(line[1:].strip())\n",
        "        else:\n",
        "            # Almacenar en la lista secuencias (quitando salto de línea)\n",
        "            secuencias.append(line.strip())\n"
      ],
      "metadata": {
        "id": "4fv40iLKxYZG"
      },
      "execution_count": 38,
      "outputs": []
    },
    {
      "cell_type": "code",
      "source": [
        "# Crear el DataFrame\n",
        "df = pd.DataFrame({\n",
        "    'ID': ids,\n",
        "    'Secuencia': secuencias\n",
        "})"
      ],
      "metadata": {
        "id": "43ULvYvo0iTy"
      },
      "execution_count": 39,
      "outputs": []
    },
    {
      "cell_type": "code",
      "source": [
        "# Crear un diagrama de violín para la longitud de las secuencias en seq\n",
        "plt.figure(figsize=(10, 6))\n",
        "sns.violinplot(data=df, y=df['Secuencia'].str.len(), color='skyblue')\n",
        "# Obtener el total de datos\n",
        "total_datos = len(df)\n",
        "# Agregar el número total de datos en la esquina superior derecha\n",
        "plt.text(0.95, 0.95, f'n = {total_datos}', ha='right', va='top', transform=plt.gca().transAxes, fontsize=15)\n",
        "# Etiquetar los ejes y el título del gráfico\n",
        "plt.xlabel('Distribución')\n",
        "plt.ylabel('Longitud de secuencias')\n",
        "plt.title('Diagrama de Violín de longitudes')\n",
        "\n",
        "# Ajustar el diseño del gráfico\n",
        "plt.tight_layout()\n",
        "\n",
        "# Mostrar el diagrama de violín\n",
        "plt.show()"
      ],
      "metadata": {
        "id": "kxROPxxb0Qwo"
      },
      "execution_count": null,
      "outputs": []
    },
    {
      "cell_type": "markdown",
      "source": [
        "## 1.8.4 Abrir archivos en drive"
      ],
      "metadata": {
        "id": "7xSOrYpIL9v4"
      }
    },
    {
      "cell_type": "code",
      "source": [
        "## mount drive\n",
        "from google.colab import drive\n",
        "drive.mount('/content/drive')"
      ],
      "metadata": {
        "colab": {
          "base_uri": "https://localhost:8080/"
        },
        "id": "Nm8sTwZlRmKg",
        "outputId": "886ae902-86cd-43a2-9b62-a32c9371bc5a"
      },
      "execution_count": null,
      "outputs": [
        {
          "output_type": "stream",
          "name": "stdout",
          "text": [
            "Drive already mounted at /content/drive; to attempt to forcibly remount, call drive.mount(\"/content/drive\", force_remount=True).\n"
          ]
        }
      ]
    },
    {
      "cell_type": "code",
      "source": [
        "filename = \"/content/drive/MyDrive/curso_python_sample_files/text.txt\"\n",
        "# you can r click and check for the path in \"copy path\""
      ],
      "metadata": {
        "id": "9DwofhTsTwUs"
      },
      "execution_count": null,
      "outputs": []
    },
    {
      "cell_type": "markdown",
      "source": [
        "## Manejo de archivos extraidos de APIs\n"
      ],
      "metadata": {
        "id": "_Q2L7KZr1Lzh"
      }
    },
    {
      "cell_type": "code",
      "source": [
        "import requests\n",
        "\n",
        "uniprot_id = \"P04949\"\n",
        "url = f\"https://rest.uniprot.org/uniprotkb/{uniprot_id}.json\"\n",
        "\n",
        "response = requests.get(url)\n",
        "data = response.json()\n",
        "\n",
        "# Nombre de la proteína\n",
        "print(\"Nombre:\", data[\"proteinDescription\"][\"recommendedName\"][\"fullName\"][\"value\"])\n",
        "\n",
        "# Organismo\n",
        "print(\"Organismo:\", data[\"organism\"][\"scientificName\"])\n",
        "\n",
        "# Secuencia\n",
        "sequence = data[\"sequence\"][\"value\"]\n",
        "print(\"Longitud de secuencia:\", len(sequence))\n",
        "print(sequence[:60] + \"...\")"
      ],
      "metadata": {
        "id": "iXDCWsR41LOI"
      },
      "execution_count": null,
      "outputs": []
    },
    {
      "cell_type": "code",
      "source": [
        "import csv\n",
        "\n",
        "# Lista de UniProt IDs relacionadas con motilidad\n",
        "uniprot_ids = [\n",
        "    \"P04949\",  # FliC - flagelina\n",
        "    \"P0ABU9\",  # MotA\n",
        "    \"P0ABV2\",  # MotB\n",
        "    \"P0A6I9\",  # FlhD\n",
        "    \"P0A940\",  # CheA\n",
        "    \"P0AE67\",  # CheY\n",
        "    \"P0AFJ5\",  # CheW\n",
        "    \"P72151\",  # PilA\n",
        "    \"Q9I4W3\",  # PilT\n",
        "    \"Q9I4W4\",  # PilB\n",
        "    \"Q1C402\",  # GldA\n",
        "    \"Q1C403\",  # GldB\n",
        "    \"Q5SHW0\",  # SprB\n",
        "]"
      ],
      "metadata": {
        "id": "Ht51LcvO1SA0"
      },
      "execution_count": null,
      "outputs": []
    },
    {
      "cell_type": "code",
      "source": [
        "import requests\n",
        "\n",
        "# Archivos de salida\n",
        "csv_file = \"proteinas_motilidad.csv\"\n",
        "fasta_file = \"proteinas_motilidad.fasta\"\n",
        "\n",
        "# Función para obtener las info\n",
        "def get_uniprot_json(uniprot_id):\n",
        "    url = f\"https://rest.uniprot.org/uniprotkb/{uniprot_id}.json\"\n",
        "    r = requests.get(url)\n",
        "    if r.status_code == 200:\n",
        "        return r.json()\n",
        "    else:\n",
        "        print(f\"Error con {uniprot_id}: {r.status_code}\")\n",
        "        return None\n",
        "\n",
        "# Función para obtener las secuencias fasta\n",
        "\n",
        "def get_uniprot_fasta(uniprot_id):\n",
        "    url = f\"https://rest.uniprot.org/uniprotkb/{uniprot_id}.fasta\"\n",
        "    r = requests.get(url)\n",
        "    if r.status_code == 200:\n",
        "        return r.text\n",
        "    else:\n",
        "        return \"\"\n"
      ],
      "metadata": {
        "id": "sr5pnVp-1UFx"
      },
      "execution_count": null,
      "outputs": []
    },
    {
      "cell_type": "code",
      "source": [
        "# Guardar anotaciones en CSV\n",
        "with open(csv_file, \"w\", newline=\"\") as csvfile, open(fasta_file, \"w\") as fastafile:\n",
        "    writer = csv.writer(csvfile)\n",
        "    writer.writerow([\"UniProt_ID\", \"Nombre\", \"Organismo\", \"Función\", \"Longitud\"])\n",
        "\n",
        "    for uid in uniprot_ids:\n",
        "        data = get_uniprot_json(uid)\n",
        "        if data:\n",
        "            # Intentar obtener nombre de varias fuentes\n",
        "            name = \"N/A\"\n",
        "            try:\n",
        "                name = data.get(\"proteinDescription\", {}).get(\"recommendedName\", {}).get(\"fullName\", {}).get(\"value\", \"N/A\")\n",
        "            except:\n",
        "                if \"proteinDescription\" in data:\n",
        "                    alt_names = data[\"proteinDescription\"].get(\"submissionNames\", [])\n",
        "                    if alt_names:\n",
        "                        name = alt_names[0].get(\"fullName\", {}).get(\"value\", \"N/A\")\n",
        "\n",
        "            # Organismo\n",
        "            organism = data.get(\"organism\", {}).get(\"scientificName\", \"N/A\")\n",
        "\n",
        "            # Buscar una descripción funcional si existe\n",
        "            function = \"N/A\"\n",
        "            for comment in data.get(\"comments\", []):\n",
        "                if comment.get(\"commentType\") == \"FUNCTION\":\n",
        "                    texts = comment.get(\"texts\", [])\n",
        "                    if texts:\n",
        "                        function = texts[0].get(\"value\", \"N/A\")\n",
        "                        break\n",
        "\n",
        "            # Secuencia\n",
        "            seq = data.get(\"sequence\", {}).get(\"value\", \"\")\n",
        "\n",
        "            # Guardar en CSV\n",
        "            writer.writerow([uid, name, organism, function, len(seq)])\n",
        "\n",
        "            # Guardar en FASTA\n",
        "            fasta = get_uniprot_fasta(uid)\n",
        "            fastafile.write(fasta)\n",
        "\n",
        "print(\"Descarga completada\")\n",
        "print(f\"Anotaciones guardadas en {csv_file}\")\n",
        "print(f\"Secuencias FASTA guardadas en {fasta_file}\")"
      ],
      "metadata": {
        "id": "cO5O4Mjk1Wsg"
      },
      "execution_count": null,
      "outputs": []
    }
  ],
  "metadata": {
    "colab": {
      "provenance": []
    },
    "kernelspec": {
      "display_name": "Python 3",
      "language": "python",
      "name": "python3"
    },
    "language_info": {
      "codemirror_mode": {
        "name": "ipython",
        "version": 3
      },
      "file_extension": ".py",
      "mimetype": "text/x-python",
      "name": "python",
      "nbconvert_exporter": "python",
      "pygments_lexer": "ipython3",
      "version": "3.7.6"
    }
  },
  "nbformat": 4,
  "nbformat_minor": 0
}